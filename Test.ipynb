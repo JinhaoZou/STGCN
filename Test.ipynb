{
 "cells": [
  {
   "cell_type": "code",
   "execution_count": 11,
   "metadata": {},
   "outputs": [
    {
     "name": "stdout",
     "output_type": "stream",
     "text": [
      "[[1], [64, 16, 64], [64, 16, 64], [128, 128], [1]]\n",
      "64\n",
      "[128, 128]\n",
      "1\n"
     ]
    }
   ],
   "source": [
    "stblock_num = 2\n",
    "Ko = 3\n",
    "\n",
    "blocks = []\n",
    "blocks.append([1])\n",
    "for l in range(stblock_num):\n",
    "    blocks.append([64, 16, 64])\n",
    "if Ko == 0:\n",
    "    blocks.append([128])\n",
    "elif Ko > 0:\n",
    "    blocks.append([128, 128])\n",
    "blocks.append([1])\n",
    "\n",
    "print(blocks)\n",
    "print(blocks[-3][-1])\n",
    "print(blocks[-2])\n",
    "print(blocks[-1][0])\n",
    "    "
   ]
  },
  {
   "cell_type": "code",
   "execution_count": 12,
   "metadata": {},
   "outputs": [
    {
     "data": {
      "text/plain": [
       "[3, 4, 5]"
      ]
     },
     "execution_count": 12,
     "metadata": {},
     "output_type": "execute_result"
    }
   ],
   "source": [
    "a = [1,2,3,4,5]\n",
    "a[2:]"
   ]
  }
 ],
 "metadata": {
  "kernelspec": {
   "display_name": "Python 3",
   "language": "python",
   "name": "python3"
  },
  "language_info": {
   "codemirror_mode": {
    "name": "ipython",
    "version": 3
   },
   "file_extension": ".py",
   "mimetype": "text/x-python",
   "name": "python",
   "nbconvert_exporter": "python",
   "pygments_lexer": "ipython3",
   "version": "3.9.6"
  }
 },
 "nbformat": 4,
 "nbformat_minor": 2
}
